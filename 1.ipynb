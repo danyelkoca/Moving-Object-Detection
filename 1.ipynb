{
 "cells": [
  {
   "cell_type": "code",
   "execution_count": 1,
   "metadata": {},
   "outputs": [],
   "source": [
    "# importing the necessary libraries\n",
    "import cv2\n",
    "import numpy as np"
   ]
  },
  {
   "cell_type": "code",
   "execution_count": 2,
   "metadata": {},
   "outputs": [],
   "source": [
    "def detect_moving_objects(video, count,frame_count, threshold, frames, initial):\n",
    "  while (video.isOpened()):\n",
    "    ret, frame = video.read()\n",
    "    frames.append(frame)\n",
    "\n",
    "    count += 1\n",
    "\n",
    "\n",
    "    if count > frame_count:\n",
    "      images = np.array(frames[count-frame_count: count])\n",
    "      images_new = images.mean(axis=0)\n",
    "      \n",
    "      # print(frames_new)\n",
    "      if not initial:    \n",
    "        diff  = np.sum(np.abs(images_new - images_old), axis=2) \n",
    "        # print(diff)\n",
    "        # break\n",
    "        diff[diff < threshold] = 1\n",
    "        diff[diff >= threshold] = -1\n",
    "        diff = np.repeat(diff[:, :, np.newaxis], 3, axis=2)\n",
    "        image = np.array(images[-frame_count])\n",
    "        image = cv2.cvtColor(image, cv2.COLOR_BGR2GRAY)\n",
    "        image = cv2.merge((image,image,image))\n",
    "        adjusted_new = np.multiply(image,diff)\n",
    "        mask = np.sum(adjusted_new, axis=2) < 0\n",
    "        adjusted_new[:,:,:3][mask] = [0, 255,0]\n",
    "        adjusted_new = adjusted_new.astype(np.uint8)\n",
    "        numpy_vertical_concat = np.concatenate((frame, adjusted_new), axis=1)\n",
    "        cv2.imshow('Frame', numpy_vertical_concat) \n",
    "\n",
    "      images_old = images_new\n",
    "      initial = False    \n",
    "\n",
    "\n",
    "      if cv2.waitKey(25) & 0xFF == ord('q'):\n",
    "          break "
   ]
  },
  {
   "cell_type": "code",
   "execution_count": 6,
   "metadata": {},
   "outputs": [],
   "source": [
    "video = cv2.VideoCapture('main_3.MOV')\n",
    "\n",
    "count, frame_count, threshold, frames, initial = 0, 1, 100, [], True\n",
    "\n",
    "detect_moving_objects(video, count, frame_count, threshold, frames, initial)\n",
    " \n",
    "video.release()\n",
    "cv2.destroyAllWindows()"
   ]
  },
  {
   "cell_type": "code",
   "execution_count": null,
   "metadata": {},
   "outputs": [],
   "source": []
  }
 ],
 "metadata": {
  "interpreter": {
   "hash": "aee8b7b246df8f9039afb4144a1f6fd8d2ca17a180786b69acc140d282b71a49"
  },
  "kernelspec": {
   "display_name": "Python 3.10.0 64-bit",
   "language": "python",
   "name": "python3"
  },
  "language_info": {
   "codemirror_mode": {
    "name": "ipython",
    "version": 3
   },
   "file_extension": ".py",
   "mimetype": "text/x-python",
   "name": "python",
   "nbconvert_exporter": "python",
   "pygments_lexer": "ipython3",
   "version": "3.10.0"
  },
  "orig_nbformat": 4
 },
 "nbformat": 4,
 "nbformat_minor": 2
}
